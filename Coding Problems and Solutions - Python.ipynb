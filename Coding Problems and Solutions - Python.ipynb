{
 "cells": [
  {
   "cell_type": "markdown",
   "metadata": {},
   "source": [
    "## A series of solutions for common python coding problems:"
   ]
  },
  {
   "cell_type": "markdown",
   "metadata": {},
   "source": [
    "### $n^\\text{th}$ fibonacci: "
   ]
  },
  {
   "cell_type": "code",
   "execution_count": 5,
   "metadata": {},
   "outputs": [
    {
     "data": {
      "text/plain": [
       "144"
      ]
     },
     "execution_count": 5,
     "metadata": {},
     "output_type": "execute_result"
    }
   ],
   "source": [
    "def nth_fibonacci(n): \n",
    "    f=[1]\n",
    "    for i in range(n)[1:]: \n",
    "        f.append(f[i-1]+f[i-2])\n",
    "    f.insert(0,1)\n",
    "    return f[-2]\n",
    "\n",
    "nth_fibonacci(12)"
   ]
  },
  {
   "cell_type": "code",
   "execution_count": 14,
   "metadata": {},
   "outputs": [
    {
     "data": {
      "text/plain": [
       "144"
      ]
     },
     "execution_count": 14,
     "metadata": {},
     "output_type": "execute_result"
    }
   ],
   "source": [
    "def nth_fibonacci(n):\n",
    "    f =[1,1]\n",
    "    for i in range(n)[2:]:\n",
    "        f.append(sum(f[i-2:i])) \n",
    "    return f[-1]\n",
    "\n",
    "nth_fibonacci(12)"
   ]
  },
  {
   "cell_type": "markdown",
   "metadata": {},
   "source": [
    "##### A more intelligent way: "
   ]
  },
  {
   "cell_type": "code",
   "execution_count": 13,
   "metadata": {},
   "outputs": [
    {
     "data": {
      "text/plain": [
       "144"
      ]
     },
     "execution_count": 13,
     "metadata": {},
     "output_type": "execute_result"
    }
   ],
   "source": [
    "# Calling the function inside itself (recursion):\n",
    "def nth_fibonacci(n):\n",
    "    if n==1:\n",
    "        return 1\n",
    "    elif n==2:\n",
    "        return 1\n",
    "    else:\n",
    "        return nth_fibonacci(n-1)+nth_fibonacci(n-2)\n",
    "    \n",
    "nth_fibonacci(12)"
   ]
  },
  {
   "cell_type": "markdown",
   "metadata": {},
   "source": [
    "### $\\pi$ aproximation:"
   ]
  },
  {
   "cell_type": "code",
   "execution_count": 10,
   "metadata": {},
   "outputs": [
    {
     "data": {
      "image/png": "[encoded data removed]",
      "text/plain": [
       "<Figure size 432x288 with 1 Axes>"
      ]
     },
     "metadata": {
      "needs_background": "light"
     },
     "output_type": "display_data"
    }
   ],
   "source": [
    "import numpy as np\n",
    "import matplotlib.pyplot as plt\n",
    "import pandas as pd \n",
    "\n",
    "n = 10000\n",
    "x = np.random.rand(n)\n",
    "y = np.random.rand(n)\n",
    "\n",
    "pi = (x**2+y**2<=1).mean()*4\n",
    "plt.scatter(x,y,c=np.where(x**2+y**2<=1,\"red\",\"blue\"))\n",
    "plt.title(r\"$\\pi$\"+\" is approximately: \"+str(pi),fontsize=15);"
   ]
  },
  {
   "cell_type": "markdown",
   "metadata": {},
   "source": [
    "### Check if string is palidrome:"
   ]
  },
  {
   "cell_type": "code",
   "execution_count": 5,
   "metadata": {},
   "outputs": [
    {
     "name": "stdout",
     "output_type": "stream",
     "text": [
      "True\n",
      "False\n"
     ]
    }
   ],
   "source": [
    "def palindrome(string):\n",
    "    if string[-1::-1]==string: \n",
    "        return True\n",
    "    else: \n",
    "        return False\n",
    "        \n",
    "print(palindrome(\"civic\"))\n",
    "print(palindrome(\"civico\"))"
   ]
  },
  {
   "cell_type": "markdown",
   "metadata": {},
   "source": [
    "### Find first repeated adjacent character:"
   ]
  },
  {
   "cell_type": "code",
   "execution_count": 20,
   "metadata": {},
   "outputs": [
    {
     "name": "stdout",
     "output_type": "stream",
     "text": [
      "No repeated adjacent characters\n",
      "o\n"
     ]
    }
   ],
   "source": [
    "def f_non_repeated(string):\n",
    "    for i in range(len(string)-1):\n",
    "        if string[i]==string[i+1]:\n",
    "            return string[i]\n",
    "            \n",
    "    return \"No repeated adjacent characters\"\n",
    "\n",
    "print(f_non_repeated(\"python\"))\n",
    "print(f_non_repeated(\"pythoon\"))"
   ]
  },
  {
   "cell_type": "markdown",
   "metadata": {},
   "source": [
    "### Find if two strings are anagrams:"
   ]
  },
  {
   "cell_type": "code",
   "execution_count": 24,
   "metadata": {},
   "outputs": [
    {
     "name": "stdout",
     "output_type": "stream",
     "text": [
      "True\n",
      "Not an anagram\n"
     ]
    }
   ],
   "source": [
    "def isanagram(string1,string2):\n",
    "    for i in string1: \n",
    "        if i not in string2: \n",
    "            return \"Not an anagram\"\n",
    "        \n",
    "    return True\n",
    "\n",
    "print(isanagram(\"pedro\",\"ordep\"))\n",
    "print(isanagram(\"python\",\"market\"))"
   ]
  },
  {
   "cell_type": "markdown",
   "metadata": {},
   "source": [
    "### Calculate n factorial:"
   ]
  },
  {
   "cell_type": "code",
   "execution_count": 63,
   "metadata": {},
   "outputs": [
    {
     "data": {
      "text/plain": [
       "120"
      ]
     },
     "execution_count": 63,
     "metadata": {},
     "output_type": "execute_result"
    }
   ],
   "source": [
    "def factorial(n):\n",
    "    f=1\n",
    "    for i in range(1,n):\n",
    "        f = f*(1+i)\n",
    "    return f\n",
    "\n",
    "factorial(5)"
   ]
  },
  {
   "cell_type": "code",
   "execution_count": 80,
   "metadata": {},
   "outputs": [
    {
     "data": {
      "text/plain": [
       "120"
      ]
     },
     "execution_count": 80,
     "metadata": {},
     "output_type": "execute_result"
    }
   ],
   "source": [
    "# Using recursion:\n",
    "def factorial(n):\n",
    "    if n<=1:\n",
    "        return 1\n",
    "    else: \n",
    "        return n*factorial(n-1)\n",
    "    \n",
    "factorial(5)"
   ]
  },
  {
   "cell_type": "markdown",
   "metadata": {},
   "source": [
    "### Sum of all positive integers up to n: "
   ]
  },
  {
   "cell_type": "code",
   "execution_count": 88,
   "metadata": {},
   "outputs": [
    {
     "data": {
      "text/plain": [
       "55"
      ]
     },
     "execution_count": 88,
     "metadata": {},
     "output_type": "execute_result"
    }
   ],
   "source": [
    "# Using recursion:\n",
    "def sum_n_int(n): \n",
    "    if n<0:\n",
    "        return 0\n",
    "    else: \n",
    "        return n+sum_n_int(n-1)\n",
    "    \n",
    "sum_n_int(10)"
   ]
  },
  {
   "cell_type": "markdown",
   "metadata": {},
   "source": [
    "### Bubble sort: "
   ]
  },
  {
   "cell_type": "code",
   "execution_count": 97,
   "metadata": {},
   "outputs": [
    {
     "data": {
      "text/plain": [
       "[1, 2, 2.2, 3, 4, 5, 6, 8, 12, 90, 900, 9000]"
      ]
     },
     "execution_count": 97,
     "metadata": {},
     "output_type": "execute_result"
    }
   ],
   "source": [
    "def sort_list(numerical_list,ascending):\n",
    "    n = len(numerical_list)\n",
    "    if ascending == True: \n",
    "        for i in range(n-1):\n",
    "            for j in range(i,n):\n",
    "                if numerical_list[i]>numerical_list[j]:\n",
    "                    x = numerical_list[i]\n",
    "                    numerical_list[i]=numerical_list[j]\n",
    "                    numerical_list[j]=x\n",
    "    else: \n",
    "        for i in range(n-1):\n",
    "            for j in range(i,n):\n",
    "                if numerical_list[i]<numerical_list[j]:\n",
    "                    x = numerical_list[i]\n",
    "                    numerical_list[i]=numerical_list[j]\n",
    "                    numerical_list[j]=x\n",
    "                    \n",
    "    return numerical_list\n",
    "                \n",
    "sort_list([1,2,3,4,5,6,9000,8,2.2,90,12,900],ascending=True)"
   ]
  },
  {
   "cell_type": "markdown",
   "metadata": {},
   "source": [
    "### Hiking problem: \n",
    "\n",
    "A hiker starts at height zero and takes a sequence of steps, steps can go up (U) or down (D). Each step up increases the height by 1 and each step down decreases the height by -1. A valley is formed when the hiker is at height zero and gives a step down. Given a sequence os steps as a string calculate the number of valleys that are formed:"
   ]
  },
  {
   "cell_type": "code",
   "execution_count": 75,
   "metadata": {},
   "outputs": [
    {
     "data": {
      "text/plain": [
       "3"
      ]
     },
     "execution_count": 75,
     "metadata": {},
     "output_type": "execute_result"
    }
   ],
   "source": [
    "def count_valleys(path):\n",
    "    valleys = 0\n",
    "    height = 0\n",
    "    for i in path: \n",
    "        if i==\"D\": \n",
    "            if height==0:\n",
    "                valleys +=1\n",
    "            height-=1\n",
    "        else:\n",
    "            height+=1\n",
    "    return valleys\n",
    "\n",
    "count_valleys(\"DDUUUUDDDUUUUUDDDDDDD\")"
   ]
  },
  {
   "cell_type": "markdown",
   "metadata": {},
   "source": [
    "### Count the number of subtrings in a string:\n",
    "Given a string and a substring count the number of substrings in the string."
   ]
  },
  {
   "cell_type": "code",
   "execution_count": 3,
   "metadata": {},
   "outputs": [
    {
     "data": {
      "text/plain": [
       "2"
      ]
     },
     "execution_count": 3,
     "metadata": {},
     "output_type": "execute_result"
    }
   ],
   "source": [
    "def count_substring(string,substring):\n",
    "    c = 0 \n",
    "    for i in range(len(string)-len(substring)+1):\n",
    "        if string[i:i+len(substring)]==substring:\n",
    "            c+=1\n",
    "    return c\n",
    "\n",
    "string = \"pedroosorioo\"\n",
    "substring = \"oo\"\n",
    "\n",
    "count_substring(string,substring)"
   ]
  },
  {
   "cell_type": "markdown",
   "metadata": {},
   "source": [
    "### Sum numbers represented as string:\n",
    "\n",
    "Given two numbers in string format calculate the value of the sum."
   ]
  },
  {
   "cell_type": "code",
   "execution_count": 6,
   "metadata": {},
   "outputs": [
    {
     "data": {
      "text/plain": [
       "39828.0"
      ]
     },
     "execution_count": 6,
     "metadata": {},
     "output_type": "execute_result"
    }
   ],
   "source": [
    "def sum_str(num1,num2):\n",
    "    t = (num1,num2)\n",
    "    num1,num2 = map(float,t)\n",
    "    return num1+num2\n",
    "\n",
    "sum_str(\"1234\",\"38594\")"
   ]
  },
  {
   "cell_type": "markdown",
   "metadata": {},
   "source": [
    "###  Number of characters is string:\n",
    "Given a string return the number of occurences of each letter:"
   ]
  },
  {
   "cell_type": "code",
   "execution_count": 14,
   "metadata": {},
   "outputs": [
    {
     "data": {
      "text/plain": [
       "{'p': 1,\n",
       " 'e': 2,\n",
       " 'd': 2,\n",
       " 'r': 2,\n",
       " 'o': 5,\n",
       " ' ': 3,\n",
       " 's': 1,\n",
       " 'i': 2,\n",
       " 'm': 1,\n",
       " 'a': 2,\n",
       " 'g': 1,\n",
       " 'l': 1,\n",
       " 'n': 1,\n",
       " 't': 2}"
      ]
     },
     "execution_count": 14,
     "metadata": {},
     "output_type": "execute_result"
    }
   ],
   "source": [
    "def letters(strinng):\n",
    "    letters ={}\n",
    "    for i in string: \n",
    "        letters.update({i:string.count(i)})\n",
    "    return letters\n",
    "\n",
    "string = \"pedro osorio magaldi netto\"\n",
    "letters(string)"
   ]
  },
  {
   "cell_type": "markdown",
   "metadata": {},
   "source": [
    "### Monotonic array:\n",
    "Given an array of numbers determine if the array is monotonic."
   ]
  },
  {
   "cell_type": "code",
   "execution_count": 66,
   "metadata": {},
   "outputs": [
    {
     "name": "stdout",
     "output_type": "stream",
     "text": [
      "True\n",
      "True\n",
      "False\n"
     ]
    }
   ],
   "source": [
    "import numpy as np\n",
    "\n",
    "array1 = [1/i for i in range(1,100)] # A monotonic decreasing array.\n",
    "array2 = [np.log(i) for i in range(1,100)] # A monotonic increasing array.\n",
    "array3 = [i**2 for i in range(-10,100)] # Not a monotonic array.\n",
    "\n",
    "def monotonic(array):\n",
    "    s = [(array[i]>=min(array[:i]))&(array[i]>=max(array[:i])) for i in range(1,len(array))]\n",
    "    return (True not in s)|(False not in s)\n",
    "            \n",
    "print(monotonic(array1))\n",
    "print(monotonic(array2))\n",
    "print(monotonic(array3))"
   ]
  },
  {
   "cell_type": "code",
   "execution_count": null,
   "metadata": {},
   "outputs": [],
   "source": []
  }
 ],
 "metadata": {
  "kernelspec": {
   "display_name": "Python 3",
   "language": "python",
   "name": "python3"
  },
  "language_info": {
   "codemirror_mode": {
    "name": "ipython",
    "version": 3
   },
   "file_extension": ".py",
   "mimetype": "text/x-python",
   "name": "python",
   "nbconvert_exporter": "python",
   "pygments_lexer": "ipython3",
   "version": "3.7.7"
  }
 },
 "nbformat": 4,
 "nbformat_minor": 4
}
